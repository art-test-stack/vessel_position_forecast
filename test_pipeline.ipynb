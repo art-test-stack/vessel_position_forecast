{
 "cells": [
  {
   "cell_type": "code",
   "execution_count": 1,
   "metadata": {},
   "outputs": [],
   "source": [
    "from settings import *\n",
    "\n",
    "from src.data.preprocessing import preprocess\n",
    "import pandas as pd\n"
   ]
  },
  {
   "cell_type": "code",
   "execution_count": null,
   "metadata": {},
   "outputs": [],
   "source": [
    "# OPEN NEEDED `*.csv` files\n",
    "ais_train = pd.read_csv(AIS_TRAIN, sep='|')\n",
    "ais_train['time'] = pd.to_datetime(ais_train['time'])\n",
    "\n",
    "ais_test = pd.read_csv(AIS_TEST, sep=\",\")\n",
    "ais_test['time'] = pd.to_datetime(ais_test['time']) \n",
    "\n",
    "X_train, X_val, y_train, y_val, test_set, scaler = preprocess(\n",
    "    ais_train, \n",
    "    ais_test,\n",
    "    seq_type=\"n_in_m_out\",\n",
    "    seq_len=10,\n",
    "    seq_len_out=3,\n",
    "    verbose=True,\n",
    "    to_torch=True\n",
    ")"
   ]
  },
  {
   "cell_type": "code",
   "execution_count": 9,
   "metadata": {},
   "outputs": [],
   "source": [
    "import torch\n",
    "from torch import nn\n",
    "from typing import Dict, Union\n",
    "\n",
    "if torch.backends.mps.is_available():\n",
    "    device = torch.device(\"mps\")\n",
    "    torch.mps.set_per_process_memory_fraction(0.)\n",
    "else:\n",
    "    device = torch.device(\"cpu\")\n",
    "device = torch.device(\"cpu\")\n",
    "\n",
    "dim_ffn = 2048 //4\n",
    "d_model = 512 // 4\n",
    "\n",
    "# transformer_params = {\n",
    "#     \"d_model\": d_model,\n",
    "#     \"nhead\": 8,\n",
    "#     # \"num_encoder_layers\": 6,\n",
    "#     \"num_decoder_layers\": 2,\n",
    "#     \"dim_feedforward\": dim_ffn,\n",
    "#     \"dropout\": 0.1,\n",
    "#     # \"activation\": str | ((Tensor) -> Tensor) = F.relu,\n",
    "#     \"custom_encoder\": None,\n",
    "#     \"custom_decoder\": None,\n",
    "#     \"layer_norm_eps\": 0.00001,\n",
    "#     \"batch_first\": False,\n",
    "#     \"norm_first\": False,\n",
    "#     \"bias\": True,\n",
    "#     \"device\": None,\n",
    "# }\n",
    "\n",
    "transformer_decoder_params = {\n",
    "    \"d_model\": d_model,\n",
    "    \"nhead\": 8,\n",
    "    # \"num_encoder_layers\": 6,\n",
    "    # \"num_decoder_layers\": 2,\n",
    "    \"dim_feedforward\": dim_ffn,\n",
    "    \"dropout\": 0.1,\n",
    "    # \"activation\": str | ((Tensor) -> Tensor) = F.relu,\n",
    "    \"layer_norm_eps\": 0.00001,\n",
    "    \"batch_first\": True,\n",
    "    \"norm_first\": False,\n",
    "    # \"bias\": True,\n",
    "    \"device\": device,\n",
    "}"
   ]
  },
  {
   "cell_type": "code",
   "execution_count": 10,
   "metadata": {},
   "outputs": [],
   "source": [
    "class DecoderModel(nn.Module):\n",
    "    def __init__(\n",
    "            self,\n",
    "            decoder_params: Dict[int,Union[int, float, bool]] = transformer_decoder_params, \n",
    "            num_features: int = 7, \n",
    "            num_outputs: int = 6, \n",
    "            num_layers: int = 1,\n",
    "            act_out: nn.Module | None = None\n",
    "        ) -> None:\n",
    "        super().__init__()\n",
    "        self.emb_layer = nn.Linear(num_features, d_model)\n",
    "        dec_layer = nn.TransformerDecoderLayer(**decoder_params)\n",
    "        self.model = nn.TransformerDecoder(dec_layer, num_layers=num_layers)\n",
    "        self.ffn = nn.Linear(dim_ffn, num_outputs)\n",
    "        self.act_out = act_out # nn.Sigmoid()\n",
    "        \n",
    "    def forward(self, x):\n",
    "        emb = self.emb_layer(x)\n",
    "        out = self.model(emb, emb)\n",
    "        if self.act_out:\n",
    "            return self.act_out(self.ffn(out))\n",
    "        return self.ffn(out)"
   ]
  },
  {
   "cell_type": "code",
   "execution_count": 11,
   "metadata": {},
   "outputs": [],
   "source": [
    "from src.train.trainer import Trainer\n",
    "\n",
    "model = DecoderModel()\n",
    "trainer = Trainer(\n",
    "    model=model,\n",
    "    loss=nn.MSELoss(),\n",
    "    optimizer=torch.optim.Adam(params=model.parameters()),\n",
    "    device=device\n",
    ")"
   ]
  },
  {
   "cell_type": "code",
   "execution_count": null,
   "metadata": {},
   "outputs": [],
   "source": [
    "X_train = torch.Tensor(X_train).to(device)\n",
    "y_train = torch.Tensor(y_train).to(device)\n",
    "\n",
    "X_val = torch.Tensor(X_val).to(device)\n",
    "y_val = torch.Tensor(y_val).to(device)"
   ]
  },
  {
   "cell_type": "code",
   "execution_count": null,
   "metadata": {},
   "outputs": [],
   "source": [
    "model.to(device)"
   ]
  },
  {
   "cell_type": "code",
   "execution_count": null,
   "metadata": {},
   "outputs": [],
   "source": [
    "trainer.fit(\n",
    "    X_train=X_train,\n",
    "    y_train=y_train,\n",
    "    X_val=X_val,\n",
    "    y_val=y_val,\n",
    "    epochs=2,\n",
    "    eval_on_test=True\n",
    ")"
   ]
  },
  {
   "cell_type": "code",
   "execution_count": null,
   "metadata": {},
   "outputs": [],
   "source": []
  }
 ],
 "metadata": {
  "kernelspec": {
   "display_name": "aitask3",
   "language": "python",
   "name": "python3"
  },
  "language_info": {
   "codemirror_mode": {
    "name": "ipython",
    "version": 3
   },
   "file_extension": ".py",
   "mimetype": "text/x-python",
   "name": "python",
   "nbconvert_exporter": "python",
   "pygments_lexer": "ipython3",
   "version": "3.10.11"
  }
 },
 "nbformat": 4,
 "nbformat_minor": 2
}
