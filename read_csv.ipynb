{
 "cells": [
  {
   "cell_type": "code",
   "execution_count": 1,
   "metadata": {},
   "outputs": [],
   "source": [
    "from settings import *"
   ]
  },
  {
   "cell_type": "code",
   "execution_count": 2,
   "metadata": {},
   "outputs": [],
   "source": [
    "import pandas as pd\n",
    "from sklearn.model_selection import train_test_split\n",
    "from sklearn.preprocessing import StandardScaler"
   ]
  },
  {
   "cell_type": "code",
   "execution_count": 3,
   "metadata": {},
   "outputs": [],
   "source": [
    "ppfeatures = [\n",
    "    \"vesselId\", \n",
    "    \"time\",\n",
    "    # 'time_diff',\n",
    "    'cog',\n",
    "    'sog',\n",
    "    'rot',\n",
    "    'heading',\n",
    "    # 'navstat',\n",
    "    # 'etaRaw',\n",
    "    'latitude',\n",
    "    'longitude',\n",
    "]"
   ]
  },
  {
   "cell_type": "code",
   "execution_count": 4,
   "metadata": {},
   "outputs": [],
   "source": [
    "input_features = [\n",
    "    \"vesselId\", \n",
    "    \"time\",\n",
    "    'time_diff',\n",
    "    'cog',\n",
    "    'sog',\n",
    "    'rot',\n",
    "    'heading',\n",
    "    # 'navstat',\n",
    "    # 'etaRaw',\n",
    "    'latitude',\n",
    "    'longitude',\n",
    "]\n",
    "\n",
    "output_features = [\n",
    "    \"vesselId\", \n",
    "    \"time\",\n",
    "    'time_diff',\n",
    "    'cog',\n",
    "    'sog',\n",
    "    'rot',\n",
    "    'heading',\n",
    "    # 'navstat',\n",
    "    # 'etaRaw',\n",
    "    'latitude',\n",
    "    'longitude',\n",
    "]"
   ]
  },
  {
   "cell_type": "code",
   "execution_count": 5,
   "metadata": {},
   "outputs": [],
   "source": [
    "ais_train = pd.read_csv(AIS_TRAIN, sep='|')\n",
    "ais_train['time'] = pd.to_datetime(ais_train['time'])"
   ]
  },
  {
   "cell_type": "code",
   "execution_count": 6,
   "metadata": {},
   "outputs": [],
   "source": [
    "# vessels = pd.read_csv(VESSELS, sep='|')\n",
    "# vessels.head()"
   ]
  },
  {
   "cell_type": "code",
   "execution_count": 7,
   "metadata": {},
   "outputs": [],
   "source": [
    "# pd.read_csv(SCHEDULES_TO_MAY_2024, sep=\"|\")"
   ]
  },
  {
   "cell_type": "code",
   "execution_count": 8,
   "metadata": {},
   "outputs": [],
   "source": [
    "ais_test = pd.read_csv(AIS_TEST, sep=\",\")\n",
    "ais_test['time'] = pd.to_datetime(ais_test['time'])"
   ]
  },
  {
   "cell_type": "code",
   "execution_count": 9,
   "metadata": {},
   "outputs": [],
   "source": [
    "# ais_test.head()"
   ]
  },
  {
   "cell_type": "code",
   "execution_count": null,
   "metadata": {},
   "outputs": [],
   "source": [
    "len(ais_test[\"vesselId\"].unique())"
   ]
  },
  {
   "cell_type": "code",
   "execution_count": 11,
   "metadata": {},
   "outputs": [],
   "source": [
    "# pd.merge(ais_test, vessels, on=\"vesselId\").dropna(subset=\"length\")"
   ]
  },
  {
   "cell_type": "code",
   "execution_count": 12,
   "metadata": {},
   "outputs": [],
   "source": [
    "# ais_test.sort_values(by=[\"vesselId\", \"time\"]).iloc[:1]"
   ]
  },
  {
   "cell_type": "code",
   "execution_count": 13,
   "metadata": {},
   "outputs": [],
   "source": [
    "# ais_test.value_counts(subset=\"vesselId\")"
   ]
  },
  {
   "cell_type": "code",
   "execution_count": 14,
   "metadata": {},
   "outputs": [],
   "source": [
    "# ais_test[ais_test[\"vesselId\"]==\"61e9f38eb937134a3c4bfd8d\"]"
   ]
  },
  {
   "cell_type": "code",
   "execution_count": 15,
   "metadata": {},
   "outputs": [],
   "source": [
    "# ais_test['time'] = pd.to_datetime(ais_test['time'])\n",
    "# ais_test['time_diff'] = ais_test['time'].diff()\n",
    "\n",
    "# mean_time_diff = ais_test['time_diff'].mean()\n",
    "# std_diff = ais_test['time_diff'].std()\n",
    "# print(mean_time_diff, std_diff)"
   ]
  },
  {
   "cell_type": "code",
   "execution_count": 16,
   "metadata": {},
   "outputs": [],
   "source": [
    "# ais_test['time'] = pd.to_datetime(ais_test['time'])\n",
    "# ais_test['time_diff'] = ais_test.sort_values(by=['vesselId', 'time']).groupby(\"vesselId\")['time'].diff()\n",
    "\n",
    "# mean_time_diff_per_id = ais_test.groupby('vesselId')['time_diff'].mean()\n",
    "\n",
    "# print(mean_time_diff_per_id)"
   ]
  },
  {
   "cell_type": "code",
   "execution_count": 17,
   "metadata": {},
   "outputs": [],
   "source": [
    "# mean_time_diff_per_id.describe()"
   ]
  },
  {
   "cell_type": "code",
   "execution_count": 18,
   "metadata": {},
   "outputs": [],
   "source": [
    "# ais_test.sort_values(by=['vesselId', 'time'])"
   ]
  },
  {
   "cell_type": "code",
   "execution_count": 19,
   "metadata": {},
   "outputs": [],
   "source": [
    "\n",
    "# def make_features(df: pd.DataFrame) -> pd.DataFrame:\n",
    "#     raw = df.copy()\n",
    "\n",
    "#     # time_diff: difference of time since last measure\n",
    "#     raw['time'] = pd.to_datetime(raw['time'])\n",
    "#     raw['time_diff'] = raw.sort_values(by=['vesselId', 'time']).groupby(\"vesselId\")['time'].diff()\n",
    "    \n",
    "    \n",
    "#     return raw"
   ]
  },
  {
   "cell_type": "code",
   "execution_count": 20,
   "metadata": {},
   "outputs": [],
   "source": [
    "# ais_tr = make_features(ais_train)"
   ]
  },
  {
   "cell_type": "code",
   "execution_count": 21,
   "metadata": {},
   "outputs": [],
   "source": [
    "# te = ais_test.copy()\n",
    "\n",
    "# # time_diff: difference of time since last measure\n",
    "# te['time'] = pd.to_datetime(te['time'])\n",
    "# te['time_diff'] = te.sort_values(by=['vesselId', 'time']).groupby(\"vesselId\")['time'].diff()"
   ]
  },
  {
   "cell_type": "code",
   "execution_count": 22,
   "metadata": {},
   "outputs": [],
   "source": [
    "# te.sort_values(by=[\"vesselId\", \"time\"])"
   ]
  },
  {
   "cell_type": "code",
   "execution_count": null,
   "metadata": {},
   "outputs": [],
   "source": [
    "ais_train[\"portId\"].isna().sum()"
   ]
  },
  {
   "cell_type": "code",
   "execution_count": 24,
   "metadata": {},
   "outputs": [],
   "source": [
    "# ais_train[\"etaRaw\"].isna().sum()"
   ]
  },
  {
   "cell_type": "code",
   "execution_count": 25,
   "metadata": {},
   "outputs": [],
   "source": [
    "# lbda = ais_train[\"etaRaw\"].iloc[0]"
   ]
  },
  {
   "cell_type": "code",
   "execution_count": 26,
   "metadata": {},
   "outputs": [],
   "source": [
    "# lbda.split()"
   ]
  },
  {
   "cell_type": "code",
   "execution_count": 27,
   "metadata": {},
   "outputs": [],
   "source": [
    "# pd.to_datetime(ais_train[\"etaRaw\"].apply(lambda x: str(x).split()))"
   ]
  },
  {
   "cell_type": "code",
   "execution_count": null,
   "metadata": {},
   "outputs": [],
   "source": [
    "ais_train"
   ]
  },
  {
   "cell_type": "code",
   "execution_count": null,
   "metadata": {},
   "outputs": [],
   "source": []
  },
  {
   "cell_type": "code",
   "execution_count": null,
   "metadata": {},
   "outputs": [],
   "source": [
    "# CREATE time_diff AND MAKE IT IN SECONDS\n",
    "\n",
    "train_vessel_id_time = ais_train[ppfeatures].copy()\n",
    "train_vessel_id_time[\"split\"] = \"train\"\n",
    "train_vessel_id_time[\"ID\"] = train_vessel_id_time.index\n",
    "\n",
    "test_vessel_id_time = ais_test[[\"ID\", \"vesselId\", \"time\" ]].copy()\n",
    "test_vessel_id_time[\"split\"] = \"test\"\n",
    "ais_data = pd.concat([train_vessel_id_time, test_vessel_id_time], ignore_index=True)\n",
    "\n",
    "# arrival time diff (from etaRaw)\n",
    "# \n",
    "ais_data['time_diff'] = (\n",
    "    ais_data\n",
    "    .sort_values(by=['time'])\n",
    "    .groupby(\"vesselId\")['time']\n",
    "    .diff()\n",
    "    .dropna()\n",
    "    .dt.total_seconds()\n",
    "    .astype(int)\n",
    ")\n",
    "\n",
    "print(len(ais_data[(ais_data[\"split\"]==\"test\")]))\n",
    "\n",
    "def update_split_column(group: pd.Series) -> pd.Series:\n",
    "    if group.name in ais_test[\"vesselId\"].unique():\n",
    "        group.iloc[-1] = \"both\"\n",
    "    return group\n",
    "\n",
    "df_temp = ais_data.copy()\n",
    "\n",
    "ser_temp = pd.Series(\n",
    "    df_temp[df_temp[\"split\"]==\"train\"]\n",
    "    .sort_values(by=\"time\")\n",
    "    .groupby(\"vesselId\")[\"split\"]\n",
    "    .apply(update_split_column)\n",
    "    .reset_index(drop=True)\n",
    ")\n",
    "ser_temp.index = df_temp[df_temp[\"split\"]==\"train\"].sort_values([\"vesselId\", \"time\"]).index\n",
    "\n",
    "ais_data[\"split\"] = ser_temp\n",
    "print(len(ais_data[(ais_data[\"split\"]==\"test\")]))\n"
   ]
  },
  {
   "cell_type": "code",
   "execution_count": 30,
   "metadata": {},
   "outputs": [],
   "source": [
    "data_train = ais_data[(ais_data[\"split\"]==\"train\")|(ais_data[\"split\"]==\"both\")]\n",
    "data_test = ais_data[(ais_data[\"split\"]==\"test\")|(ais_data[\"split\"]==\"both\")]"
   ]
  },
  {
   "cell_type": "code",
   "execution_count": null,
   "metadata": {},
   "outputs": [],
   "source": [
    "print(len(ais_data[(ais_data[\"split\"]==\"test\")]))\n"
   ]
  },
  {
   "cell_type": "code",
   "execution_count": 32,
   "metadata": {},
   "outputs": [],
   "source": [
    "data_test = ais_data[(ais_data[\"split\"]==\"test\")|(ais_data[\"split\"]==\"both\")]\n"
   ]
  },
  {
   "cell_type": "code",
   "execution_count": null,
   "metadata": {},
   "outputs": [],
   "source": [
    "data_test"
   ]
  },
  {
   "cell_type": "code",
   "execution_count": null,
   "metadata": {},
   "outputs": [],
   "source": [
    "ais_data"
   ]
  },
  {
   "cell_type": "code",
   "execution_count": null,
   "metadata": {},
   "outputs": [],
   "source": [
    "ais_test"
   ]
  },
  {
   "cell_type": "code",
   "execution_count": 36,
   "metadata": {},
   "outputs": [],
   "source": [
    "scaled_features = [\n",
    "    'time_diff',\n",
    "    'cog',\n",
    "    'sog',\n",
    "    'rot',\n",
    "    'heading',\n",
    "    # 'navstat',\n",
    "    # 'etaRaw',\n",
    "    'latitude',\n",
    "    'longitude',\n",
    "]\n",
    "# scaled_features_y = [\n",
    "#     'time_diff',\n",
    "#     'cog',\n",
    "#     'sog',\n",
    "#     'rot',\n",
    "#     'heading',\n",
    "#     # 'navstat',\n",
    "#     # 'etaRaw',\n",
    "#     'latitude',\n",
    "#     'longitude',\n",
    "# ]"
   ]
  },
  {
   "cell_type": "code",
   "execution_count": 37,
   "metadata": {},
   "outputs": [],
   "source": [
    "scaler = StandardScaler()"
   ]
  },
  {
   "cell_type": "code",
   "execution_count": 38,
   "metadata": {},
   "outputs": [],
   "source": [
    "data_train = data_train.dropna(subset=\"time_diff\")"
   ]
  },
  {
   "cell_type": "code",
   "execution_count": 39,
   "metadata": {},
   "outputs": [],
   "source": [
    "X = data_train.sort_values([\"vesselId\", \"time\"]).iloc[:-1][input_features]\n",
    "y = data_train.sort_values([\"vesselId\", \"time\"]).iloc[1:][output_features]"
   ]
  },
  {
   "cell_type": "code",
   "execution_count": 40,
   "metadata": {},
   "outputs": [],
   "source": [
    "X_train, X_test, y_train, y_test = train_test_split(X, y, test_size=.2, shuffle=False)"
   ]
  },
  {
   "cell_type": "code",
   "execution_count": 41,
   "metadata": {},
   "outputs": [],
   "source": [
    "X_train_scaled = X_train.copy()\n",
    "X_train_scaled[scaled_features] = scaler.fit_transform(X_train_scaled[scaled_features])\n",
    "\n",
    "y_train_scaled = y_train.copy()\n",
    "y_train_scaled[scaled_features] = scaler.transform(y_train_scaled[scaled_features])"
   ]
  },
  {
   "cell_type": "code",
   "execution_count": 42,
   "metadata": {},
   "outputs": [],
   "source": [
    "X_test_scaled = X_test.copy()\n",
    "X_test_scaled[scaled_features] = scaler.transform(X_test_scaled[scaled_features])\n",
    "\n",
    "y_test_scaled = y_test.copy()\n",
    "y_test_scaled[scaled_features] = scaler.transform(y_test_scaled[scaled_features])"
   ]
  },
  {
   "cell_type": "code",
   "execution_count": 43,
   "metadata": {},
   "outputs": [],
   "source": [
    "# X_train = X_train.sort_values([\"time\", \"vesselId\"])\n",
    "# y_train = y_train.sort_values([\"time\", \"vesselId\"])\n",
    "# X_test = X_test.sort_values([\"time\", \"vesselId\"])\n",
    "# y_test = y_test.sort_values([\"time\", \"vesselId\"])"
   ]
  },
  {
   "cell_type": "code",
   "execution_count": 44,
   "metadata": {},
   "outputs": [],
   "source": [
    "import xgboost as xgb"
   ]
  },
  {
   "cell_type": "code",
   "execution_count": 45,
   "metadata": {},
   "outputs": [],
   "source": [
    "params = {\n",
    "    'n_estimators': 5000,\n",
    "    'gamma': 0.5,\n",
    "    'subsample': 0.6,\n",
    "    'n_estimators': 5000,\n",
    "    'min_child_weight':  15,\n",
    "    'colsample_bytree': 0.8,\n",
    "    'max_depth': 4,\n",
    "    'eta':  0.005,\n",
    "    'refresh_leaf': 1,\n",
    "}"
   ]
  },
  {
   "cell_type": "code",
   "execution_count": 46,
   "metadata": {},
   "outputs": [],
   "source": [
    "xgb_model = xgb.XGBRegressor(**params)"
   ]
  },
  {
   "cell_type": "code",
   "execution_count": 47,
   "metadata": {},
   "outputs": [],
   "source": [
    "X_train = X_train_scaled[scaled_features]\n",
    "y_train = y_train_scaled[scaled_features]\n",
    "X_test = X_test_scaled[scaled_features]\n",
    "y_test = y_test_scaled[scaled_features]"
   ]
  },
  {
   "cell_type": "code",
   "execution_count": 48,
   "metadata": {},
   "outputs": [],
   "source": [
    "# xgb_model.fit(\n",
    "#     X_train, y_train,\n",
    "#     eval_set=[(X_train, y_train), (X_test, y_test)],\n",
    "#     # early_stopping_rounds=50,\n",
    "#     verbose=False,\n",
    "# )\n",
    "xgb_model.load_model(\"models/xgb_model1.json\")"
   ]
  },
  {
   "cell_type": "code",
   "execution_count": 49,
   "metadata": {},
   "outputs": [],
   "source": [
    "# try:\n",
    "#     xgb_model.save_model(\"models/xgb_model1.json\")\n",
    "# except:\n",
    "#     xgb_model.save_model(\"models/xgb_model2.json\")"
   ]
  },
  {
   "cell_type": "code",
   "execution_count": null,
   "metadata": {},
   "outputs": [],
   "source": [
    "import matplotlib.pyplot as plt\n",
    "\n",
    "results = xgb_model.evals_result()\n",
    "train_errors = results['validation_0']['rmse']\n",
    "test_errors = results['validation_1']['rmse']\n",
    "\n",
    "plt.figure(figsize=(10, 6))\n",
    "plt.plot(train_errors, label='Train')\n",
    "plt.plot(test_errors, label='Test')\n",
    "plt.xlabel('Boosting Rounds')\n",
    "plt.ylabel(\"rmse\")\n",
    "plt.legend()\n",
    "plt.title('Learning Curves')\n",
    "plt.show()"
   ]
  },
  {
   "cell_type": "code",
   "execution_count": 46,
   "metadata": {},
   "outputs": [],
   "source": [
    "y_pred = xgb_model.predict(X_test) "
   ]
  },
  {
   "cell_type": "code",
   "execution_count": 47,
   "metadata": {},
   "outputs": [],
   "source": [
    "def iterative_forecast(last_known, model, steps, sequence_length):\n",
    "    predicted = []\n",
    "    current_sequence = last_known[-sequence_length:]\n",
    "\n",
    "    for _ in range(steps):\n",
    "        next_pred = model.predict(current_sequence.reshape(1, sequence_length, -1))[0]\n",
    "        predicted.append(next_pred)\n",
    "        \n",
    "        # Update current_sequence by appending next prediction\n",
    "        current_sequence = np.append(current_sequence[1:], [next_pred], axis=0)\n",
    "    \n",
    "    return predicted"
   ]
  },
  {
   "cell_type": "code",
   "execution_count": 48,
   "metadata": {},
   "outputs": [],
   "source": [
    "grouped_test = data_test.groupby(\"vesselId\")"
   ]
  },
  {
   "cell_type": "code",
   "execution_count": null,
   "metadata": {},
   "outputs": [],
   "source": [
    "data_test"
   ]
  },
  {
   "cell_type": "code",
   "execution_count": null,
   "metadata": {},
   "outputs": [],
   "source": [
    "predictions = {}\n",
    "forecast_steps = 300\n",
    "sequence_length = 1\n",
    "\n",
    "\n",
    "for vessel_id, group in grouped_test:\n",
    "    last_known_features = scaler.transform(group[scaled_features].values[-sequence_length:])  # Get the last known sequence\n",
    "    future_preds = iterative_forecast(last_known_features, xgb_model, forecast_steps, sequence_length)\n",
    "    \n",
    "    # Store the predictions\n",
    "    predictions[vessel_id] = scaler.inverse_transform(future_preds)  # Re-scale the predictions back to original\n"
   ]
  },
  {
   "cell_type": "code",
   "execution_count": null,
   "metadata": {},
   "outputs": [],
   "source": []
  }
 ],
 "metadata": {
  "kernelspec": {
   "display_name": "aitask3",
   "language": "python",
   "name": "python3"
  },
  "language_info": {
   "codemirror_mode": {
    "name": "ipython",
    "version": 3
   },
   "file_extension": ".py",
   "mimetype": "text/x-python",
   "name": "python",
   "nbconvert_exporter": "python",
   "pygments_lexer": "ipython3",
   "version": "3.10.11"
  }
 },
 "nbformat": 4,
 "nbformat_minor": 2
}
