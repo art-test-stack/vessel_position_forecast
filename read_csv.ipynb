{
 "cells": [
  {
   "cell_type": "code",
   "execution_count": 1,
   "metadata": {},
   "outputs": [],
   "source": [
    "from settings import *"
   ]
  },
  {
   "cell_type": "code",
   "execution_count": 2,
   "metadata": {},
   "outputs": [],
   "source": [
    "import pandas as pd\n",
    "import numpy as np\n",
    "from sklearn.model_selection import train_test_split\n",
    "from sklearn.preprocessing import StandardScaler"
   ]
  },
  {
   "cell_type": "code",
   "execution_count": 3,
   "metadata": {},
   "outputs": [],
   "source": [
    "ppfeatures = [\n",
    "    \"vesselId\", \n",
    "    \"time\",\n",
    "    # 'time_diff',\n",
    "    'cog',\n",
    "    'sog',\n",
    "    'rot',\n",
    "    'heading',\n",
    "    # 'navstat',\n",
    "    # 'etaRaw',\n",
    "    'latitude',\n",
    "    'longitude',\n",
    "]"
   ]
  },
  {
   "cell_type": "code",
   "execution_count": null,
   "metadata": {},
   "outputs": [],
   "source": [
    "302627 / 688"
   ]
  },
  {
   "cell_type": "code",
   "execution_count": 4,
   "metadata": {},
   "outputs": [],
   "source": [
    "input_features = [\n",
    "    \"vesselId\", \n",
    "    \"time\",\n",
    "    'time_diff',\n",
    "    'cog',\n",
    "    'sog',\n",
    "    'rot',\n",
    "    'heading',\n",
    "    # 'navstat',\n",
    "    # 'etaRaw',\n",
    "    'latitude',\n",
    "    'longitude',\n",
    "]\n",
    "\n",
    "output_features = [\n",
    "    \"vesselId\", \n",
    "    \"time\",\n",
    "    'time_diff',\n",
    "    'cog',\n",
    "    'sog',\n",
    "    'rot',\n",
    "    'heading',\n",
    "    # 'navstat',\n",
    "    # 'etaRaw',\n",
    "    'latitude',\n",
    "    'longitude',\n",
    "]"
   ]
  },
  {
   "cell_type": "code",
   "execution_count": 5,
   "metadata": {},
   "outputs": [],
   "source": [
    "ais_train = pd.read_csv(AIS_TRAIN, sep='|')\n",
    "ais_train['time'] = pd.to_datetime(ais_train['time'])"
   ]
  },
  {
   "cell_type": "code",
   "execution_count": 6,
   "metadata": {},
   "outputs": [],
   "source": [
    "# vessels = pd.read_csv(VESSELS, sep='|')\n",
    "# vessels.head()"
   ]
  },
  {
   "cell_type": "code",
   "execution_count": 7,
   "metadata": {},
   "outputs": [],
   "source": [
    "# pd.read_csv(SCHEDULES_TO_MAY_2024, sep=\"|\")"
   ]
  },
  {
   "cell_type": "code",
   "execution_count": 8,
   "metadata": {},
   "outputs": [],
   "source": [
    "ais_test = pd.read_csv(AIS_TEST, sep=\",\")\n",
    "ais_test['time'] = pd.to_datetime(ais_test['time'])"
   ]
  },
  {
   "cell_type": "code",
   "execution_count": null,
   "metadata": {},
   "outputs": [],
   "source": [
    "ais_test"
   ]
  },
  {
   "cell_type": "code",
   "execution_count": 10,
   "metadata": {},
   "outputs": [],
   "source": [
    "# ais_test.head()"
   ]
  },
  {
   "cell_type": "code",
   "execution_count": null,
   "metadata": {},
   "outputs": [],
   "source": [
    "len(ais_test[\"vesselId\"].unique())"
   ]
  },
  {
   "cell_type": "code",
   "execution_count": 12,
   "metadata": {},
   "outputs": [],
   "source": [
    "\n",
    "# def make_features(df: pd.DataFrame) -> pd.DataFrame:\n",
    "#     raw = df.copy()\n",
    "\n",
    "#     # time_diff: difference of time since last measure\n",
    "#     raw['time'] = pd.to_datetime(raw['time'])\n",
    "#     raw['time_diff'] = raw.sort_values(by=['vesselId', 'time']).groupby(\"vesselId\")['time'].diff()\n",
    "    \n",
    "    \n",
    "#     return raw"
   ]
  },
  {
   "cell_type": "code",
   "execution_count": 13,
   "metadata": {},
   "outputs": [],
   "source": [
    "# ais_tr = make_features(ais_train)"
   ]
  },
  {
   "cell_type": "code",
   "execution_count": 14,
   "metadata": {},
   "outputs": [],
   "source": [
    "# te.sort_values(by=[\"vesselId\", \"time\"])"
   ]
  },
  {
   "cell_type": "code",
   "execution_count": null,
   "metadata": {},
   "outputs": [],
   "source": [
    "ais_train[\"portId\"].isna().sum()"
   ]
  },
  {
   "cell_type": "code",
   "execution_count": null,
   "metadata": {},
   "outputs": [],
   "source": [
    "ais_train"
   ]
  },
  {
   "cell_type": "code",
   "execution_count": 45,
   "metadata": {},
   "outputs": [],
   "source": [
    "# CREATE time_diff AND MAKE IT IN SECONDS\n",
    "\n",
    "train_vessel_id_time = ais_train[ppfeatures].copy()\n",
    "train_vessel_id_time[\"split\"] = \"train\"\n",
    "train_vessel_id_time[\"ID\"] = train_vessel_id_time.index\n",
    "\n",
    "test_vessel_id_time = ais_test[[\"ID\", \"vesselId\", \"time\" ]].copy()\n",
    "test_vessel_id_time[\"split\"] = \"test\"\n",
    "ais_data = pd.concat([train_vessel_id_time, test_vessel_id_time], ignore_index=True)\n",
    "\n",
    "# arrival time diff (from etaRaw)\n",
    "# \n",
    "ais_data['time_diff'] = (\n",
    "    ais_data\n",
    "    .sort_values(by=['time'])\n",
    "    .groupby(\"vesselId\")['time']\n",
    "    .diff(-1)\n",
    "    .abs()\n",
    "    .dropna()\n",
    "    .dt.total_seconds()\n",
    "    .astype(int)\n",
    "    # .shift(-1)\n",
    ")\n",
    "\n",
    "\n",
    "def update_split_column(group: pd.Series) -> pd.Series:\n",
    "    if group.name in ais_test[\"vesselId\"].unique():\n",
    "        group.iloc[-1] = \"both\"\n",
    "    return group\n",
    "\n",
    "df_temp = ais_data.copy()\n",
    "\n",
    "ser_temp = pd.Series(\n",
    "    df_temp[df_temp[\"split\"]==\"train\"]\n",
    "    .sort_values(by=\"time\")\n",
    "    .groupby(\"vesselId\")[\"split\"]\n",
    "    .apply(update_split_column)\n",
    "    .reset_index(drop=True)\n",
    ")\n",
    "ser_temp.index = df_temp[df_temp[\"split\"]==\"train\"].sort_values([\"vesselId\", \"time\"]).index\n",
    "\n",
    "ais_data.loc[ser_temp.index, \"split\"] = ser_temp"
   ]
  },
  {
   "cell_type": "code",
   "execution_count": null,
   "metadata": {},
   "outputs": [],
   "source": [
    "ais_data.describe()"
   ]
  },
  {
   "cell_type": "code",
   "execution_count": 49,
   "metadata": {},
   "outputs": [],
   "source": [
    "data_train = ais_data[(ais_data[\"split\"]==\"train\")|(ais_data[\"split\"]==\"both\")]\n",
    "data_test = ais_data[(ais_data[\"split\"]==\"test\")|(ais_data[\"split\"]==\"both\")]"
   ]
  },
  {
   "cell_type": "code",
   "execution_count": null,
   "metadata": {},
   "outputs": [],
   "source": [
    "data_train.sort_values(by=[\"vesselId\", \"time\"])"
   ]
  },
  {
   "cell_type": "code",
   "execution_count": null,
   "metadata": {},
   "outputs": [],
   "source": [
    "(1522065 - 1513820) / 9"
   ]
  },
  {
   "cell_type": "code",
   "execution_count": null,
   "metadata": {},
   "outputs": [],
   "source": [
    "sequences = []\n",
    "targets = [0]\n",
    "if sequences and targets:\n",
    "    print(True)\n",
    "else:\n",
    "    print(False)"
   ]
  },
  {
   "cell_type": "code",
   "execution_count": null,
   "metadata": {},
   "outputs": [],
   "source": [
    "1513820 - 1513133"
   ]
  },
  {
   "cell_type": "code",
   "execution_count": null,
   "metadata": {},
   "outputs": [],
   "source": [
    "data_test.sort_values(by=[\"vesselId\", \"time\"])"
   ]
  },
  {
   "cell_type": "code",
   "execution_count": null,
   "metadata": {},
   "outputs": [],
   "source": [
    "# \"2024-01-12 14:07:47\" - \"2024-01-12 14:31:00\"\n",
    "from datetime import datetime as dt\n",
    "a = dt.strptime(\"22:51:29\", \"%H:%M:%S\")\n",
    "b = dt.strptime(\"23:12:27\", \"%H:%M:%S\")\n",
    "(b-a).total_seconds()"
   ]
  },
  {
   "cell_type": "code",
   "execution_count": null,
   "metadata": {},
   "outputs": [],
   "source": [
    "data_train.sort_values(by=[\"vesselId\", \"time\"])\n"
   ]
  },
  {
   "cell_type": "code",
   "execution_count": 20,
   "metadata": {},
   "outputs": [],
   "source": [
    "scaled_features = [\n",
    "    'time_diff',\n",
    "    'cog',\n",
    "    'sog',\n",
    "    'rot',\n",
    "    'heading',\n",
    "    # 'navstat',\n",
    "    # 'etaRaw',\n",
    "    'latitude',\n",
    "    'longitude',\n",
    "]\n",
    "# scaled_features_y = [\n",
    "#     'time_diff',\n",
    "#     'cog',\n",
    "#     'sog',\n",
    "#     'rot',\n",
    "#     'heading',\n",
    "#     # 'navstat',\n",
    "#     # 'etaRaw',\n",
    "#     'latitude',\n",
    "#     'longitude',\n",
    "# ]"
   ]
  },
  {
   "cell_type": "code",
   "execution_count": 21,
   "metadata": {},
   "outputs": [],
   "source": [
    "scaler = StandardScaler()"
   ]
  },
  {
   "cell_type": "code",
   "execution_count": 22,
   "metadata": {},
   "outputs": [],
   "source": [
    "data_train = data_train.dropna(subset=\"time_diff\")"
   ]
  },
  {
   "cell_type": "code",
   "execution_count": 23,
   "metadata": {},
   "outputs": [],
   "source": [
    "X = data_train.sort_values([\"vesselId\", \"time\"]).iloc[:-1][input_features]\n",
    "y = data_train.sort_values([\"vesselId\", \"time\"]).iloc[1:][output_features]"
   ]
  },
  {
   "cell_type": "code",
   "execution_count": 24,
   "metadata": {},
   "outputs": [],
   "source": [
    "X_train, X_test, y_train, y_test = train_test_split(X, y, test_size=.2, shuffle=False)"
   ]
  },
  {
   "cell_type": "code",
   "execution_count": 25,
   "metadata": {},
   "outputs": [],
   "source": [
    "X_train_scaled = X_train.copy()\n",
    "X_train_scaled[scaled_features] = scaler.fit_transform(X_train_scaled[scaled_features])\n",
    "\n",
    "y_train_scaled = y_train.copy()\n",
    "y_train_scaled[scaled_features] = scaler.transform(y_train_scaled[scaled_features])"
   ]
  },
  {
   "cell_type": "code",
   "execution_count": 26,
   "metadata": {},
   "outputs": [],
   "source": [
    "X_test_scaled = X_test.copy()\n",
    "X_test_scaled[scaled_features] = scaler.transform(X_test_scaled[scaled_features])\n",
    "\n",
    "y_test_scaled = y_test.copy()\n",
    "y_test_scaled[scaled_features] = scaler.transform(y_test_scaled[scaled_features])"
   ]
  },
  {
   "cell_type": "code",
   "execution_count": 27,
   "metadata": {},
   "outputs": [],
   "source": [
    "# X_train = X_train.sort_values([\"time\", \"vesselId\"])\n",
    "# y_train = y_train.sort_values([\"time\", \"vesselId\"])\n",
    "# X_test = X_test.sort_values([\"time\", \"vesselId\"])\n",
    "# y_test = y_test.sort_values([\"time\", \"vesselId\"])"
   ]
  },
  {
   "cell_type": "code",
   "execution_count": 28,
   "metadata": {},
   "outputs": [],
   "source": [
    "import xgboost as xgb\n",
    "\n",
    "from sklearn import preprocessing\n",
    "\n",
    "from sklearn.model_selection import GridSearchCV"
   ]
  },
  {
   "cell_type": "code",
   "execution_count": 29,
   "metadata": {},
   "outputs": [],
   "source": [
    "params = {\n",
    "    'n_estimators': 5000,\n",
    "    'gamma': 0.5,\n",
    "    'subsample': 0.6,\n",
    "    'n_estimators': 5000,\n",
    "    'min_child_weight':  15,\n",
    "    'colsample_bytree': 0.8,\n",
    "    'max_depth': 4,\n",
    "    'eta':  0.005,\n",
    "    'refresh_leaf': 1,\n",
    "}"
   ]
  },
  {
   "cell_type": "code",
   "execution_count": 30,
   "metadata": {},
   "outputs": [],
   "source": [
    "param_grid = {\n",
    "    'n_estimators': [5000, 10_000],\n",
    "    'gamma': [0.5,],\n",
    "    'subsample': [0.6,],\n",
    "    'min_child_weight':  [15, 20],\n",
    "    'colsample_bytree': [0.8,],\n",
    "    'max_depth': [4, 10],\n",
    "    'eta':  [0.005,],\n",
    "    'refresh_leaf': [1,],\n",
    "\n",
    "}"
   ]
  },
  {
   "cell_type": "code",
   "execution_count": 31,
   "metadata": {},
   "outputs": [],
   "source": [
    "X_train = X_train_scaled[scaled_features]\n",
    "y_train = y_train_scaled[scaled_features]\n",
    "X_test = X_test_scaled[scaled_features]\n",
    "y_test = y_test_scaled[scaled_features]"
   ]
  },
  {
   "cell_type": "code",
   "execution_count": null,
   "metadata": {},
   "outputs": [],
   "source": [
    "X_train"
   ]
  },
  {
   "cell_type": "code",
   "execution_count": null,
   "metadata": {},
   "outputs": [],
   "source": [
    "xgb_model = xgb.XGBRegressor(**params)\n",
    "\n",
    "grid_search = GridSearchCV(xgb_model, param_grid=param_grid)\n",
    "grid_search.fit(\n",
    "    X_train, y_train,\n",
    "    eval_set=[(X_train, y_train), (X_test, y_test)]\n",
    ")\n",
    "xgb_model = grid_search.best_estimator_\n",
    "print(grid_search.best_params_)"
   ]
  },
  {
   "cell_type": "code",
   "execution_count": null,
   "metadata": {},
   "outputs": [],
   "source": [
    "# xgb_model.fit(\n",
    "#     X_train, y_train,\n",
    "#     eval_set=[(X_train, y_train), (X_test, y_test)],\n",
    "#     # early_stopping_rounds=50,\n",
    "#     verbose=False,\n",
    "# )\n",
    "# # xgb_model.load_model(\"models/xgb_model1.json\")"
   ]
  },
  {
   "cell_type": "code",
   "execution_count": 31,
   "metadata": {},
   "outputs": [],
   "source": [
    "# try:\n",
    "#     xgb_model.save_model(\"models/xgb_model1.json\")\n",
    "# except:\n",
    "xgb_model.save_model(\"models/xgb_model2.json\")"
   ]
  },
  {
   "cell_type": "code",
   "execution_count": null,
   "metadata": {},
   "outputs": [],
   "source": [
    "import matplotlib.pyplot as plt\n",
    "\n",
    "results = xgb_model.evals_result()\n",
    "train_errors = results['validation_0']['rmse']\n",
    "test_errors = results['validation_1']['rmse']\n",
    "\n",
    "plt.figure(figsize=(10, 6))\n",
    "plt.plot(train_errors, label='Train')\n",
    "plt.plot(test_errors, label='Test')\n",
    "plt.xlabel('Boosting Rounds')\n",
    "plt.ylabel(\"rmse\")\n",
    "plt.legend()\n",
    "plt.title('Learning Curves')\n",
    "plt.show()"
   ]
  },
  {
   "cell_type": "code",
   "execution_count": 33,
   "metadata": {},
   "outputs": [],
   "source": [
    "y_pred = xgb_model.predict(X_test)"
   ]
  },
  {
   "cell_type": "code",
   "execution_count": null,
   "metadata": {},
   "outputs": [],
   "source": [
    "X_test"
   ]
  },
  {
   "cell_type": "code",
   "execution_count": null,
   "metadata": {},
   "outputs": [],
   "source": [
    "y_test"
   ]
  },
  {
   "cell_type": "code",
   "execution_count": null,
   "metadata": {},
   "outputs": [],
   "source": [
    "len_test = len(y_test)\n",
    "len_test"
   ]
  },
  {
   "cell_type": "code",
   "execution_count": 83,
   "metadata": {},
   "outputs": [],
   "source": [
    "df_y = y.iloc[-len_test:]"
   ]
  },
  {
   "cell_type": "code",
   "execution_count": null,
   "metadata": {},
   "outputs": [],
   "source": [
    "vessel_id = df_y[\"vesselId\"].unique()[11]\n",
    "print(\"vesselId:\", vessel_id)\n",
    "df_y_ = df_y[df_y[\"vesselId\"]==vessel_id]\n",
    "y_test_plot = y_test[:len(df_y_)]\n",
    "y_pred_plot = pd.DataFrame(y_pred[:len(df_y_)], columns=y_test.columns)"
   ]
  },
  {
   "cell_type": "code",
   "execution_count": null,
   "metadata": {},
   "outputs": [],
   "source": [
    "# vessel_id = y_test.values\n",
    "plt.figure(figsize=(20, 10))\n",
    "plt.subplot(1, 2, 1)\n",
    "plt.plot(y_test_plot[\"longitude\"], y_test_plot[\"latitude\"], 'o', label=\"test\")\n",
    "plt.plot(y_pred_plot[\"longitude\"], y_pred_plot[\"latitude\"], 'o', label=\"pred\")\n",
    "plt.legend()\n",
    "plt.subplot(1, 2, 2)\n",
    "plt.plot(y_test_plot[\"longitude\"], y_test_plot[\"latitude\"], label=\"test\")\n",
    "plt.plot(y_pred_plot[\"longitude\"], y_pred_plot[\"latitude\"], label=\"pred\")\n",
    "plt.legend()\n"
   ]
  },
  {
   "cell_type": "code",
   "execution_count": null,
   "metadata": {},
   "outputs": [],
   "source": [
    "df_y = y.iloc[-len_test:].copy()\n",
    "df_y = df_y.reset_index()\n",
    "vessel_id = df_y[\"vesselId\"].unique()[104]\n",
    "print(\"vesselId:\", vessel_id)\n",
    "index = list(df_y[df_y[\"vesselId\"]==vessel_id].index)\n",
    "\n",
    "y_test_plot = y_test.reset_index().iloc[index]\n",
    "y_pred_plot = pd.DataFrame(y_pred.take(index, axis=0), columns=y_test.columns)\n",
    "\n",
    "plt.figure(figsize=(20, 10))\n",
    "plt.subplot(1, 2, 1)\n",
    "plt.plot(y_test_plot[\"longitude\"], y_test_plot[\"latitude\"], 'o', label=\"test\")\n",
    "plt.plot(y_pred_plot[\"longitude\"], y_pred_plot[\"latitude\"], 'o', label=\"pred\")\n",
    "plt.legend()\n",
    "plt.subplot(1, 2, 2)\n",
    "plt.plot(y_test_plot[\"longitude\"], y_test_plot[\"latitude\"], label=\"test\")\n",
    "plt.plot(y_pred_plot[\"longitude\"], y_pred_plot[\"latitude\"], label=\"pred\")\n",
    "plt.legend()"
   ]
  },
  {
   "cell_type": "code",
   "execution_count": 136,
   "metadata": {},
   "outputs": [],
   "source": [
    "\n",
    "# vessel_id = y_test.values"
   ]
  },
  {
   "cell_type": "code",
   "execution_count": null,
   "metadata": {},
   "outputs": [],
   "source": [
    "# from src.eval.metric import *\n",
    "\n",
    "# score(y_test[[\"ID\", \"latitude\", \"longitude\"]], y_pred, \"ID\")"
   ]
  },
  {
   "cell_type": "code",
   "execution_count": 147,
   "metadata": {},
   "outputs": [],
   "source": [
    "\n",
    "def iterative_forecast(last_known, model, steps, sequence_length):\n",
    "    predicted = []\n",
    "    current_sequence = last_known[-sequence_length:]\n",
    "\n",
    "    for _ in range(steps):\n",
    "        # next_pred = model.predict(current_sequence.reshape(1, sequence_length, -1))[0]\n",
    "        next_pred = model.predict(current_sequence)[0]\n",
    "        predicted.append(next_pred)\n",
    "        \n",
    "        # Update current_sequence by appending next prediction\n",
    "        current_sequence = np.append(current_sequence[1:], [next_pred], axis=0)\n",
    "    \n",
    "    return predicted"
   ]
  },
  {
   "cell_type": "code",
   "execution_count": 148,
   "metadata": {},
   "outputs": [],
   "source": [
    "grouped_test = data_test.groupby(\"vesselId\")"
   ]
  },
  {
   "cell_type": "code",
   "execution_count": null,
   "metadata": {},
   "outputs": [],
   "source": [
    "predictions = []\n",
    "forecast_steps = 300\n",
    "sequence_length = 1\n",
    "\n",
    "\n",
    "for vessel_id, group in grouped_test:\n",
    "    forecast_steps = len(group['time'].values)\n",
    "\n",
    "    last_known_features = scaler.transform(group[scaled_features].values[-sequence_length:])\n",
    "    future_preds = iterative_forecast(last_known_features, xgb_model, forecast_steps, sequence_length)\n",
    "    \n",
    "    # Store the predictions\n",
    "    nb_preds = len(group['time'].values)\n",
    "    df_pred = pd.DataFrame(scaler.inverse_transform(future_preds), columns=scaled_features)\n",
    "    df_pred['time'] = group['time'].values\n",
    "    df_pred[\"vesselId\"] = vessel_id\n",
    "    predictions.append(df_pred)\n"
   ]
  },
  {
   "cell_type": "code",
   "execution_count": 151,
   "metadata": {},
   "outputs": [],
   "source": [
    "df_preds = pd.concat(predictions, ignore_index=True)"
   ]
  },
  {
   "cell_type": "code",
   "execution_count": 152,
   "metadata": {},
   "outputs": [],
   "source": [
    "res = pd.merge(ais_test, df_preds[[\"vesselId\",\"time\", \"latitude\", \"longitude\"]],on=[\"time\", \"vesselId\"], how=\"left\")"
   ]
  },
  {
   "cell_type": "code",
   "execution_count": 153,
   "metadata": {},
   "outputs": [],
   "source": [
    "res[\"longitude_predicted\"] = res[\"longitude\"]\n",
    "res[\"latitude_predicted\"] = res[\"latitude\"]\n",
    "# res[\"id\"] = res[\"ID\"]\n",
    "res = res.drop(columns=[\"longitude\", \"latitude\"])"
   ]
  },
  {
   "cell_type": "code",
   "execution_count": null,
   "metadata": {},
   "outputs": [],
   "source": [
    "res[[\"ID\",\"longitude_predicted\",\"latitude_predicted\"]]"
   ]
  },
  {
   "cell_type": "code",
   "execution_count": null,
   "metadata": {},
   "outputs": [],
   "source": [
    "from utils import *\n",
    "\n",
    "from settings import *\n",
    "\n",
    "from datetime import datetime\n",
    "import uuid\n",
    "\n",
    "import pandas as pd\n",
    "\n",
    "def make_file_name() -> str:\n",
    "    file_name = str(uuid.uuid4()) + \".csv\"\n",
    "    print(f\"Submission file name is: {file_name}\")\n",
    "    return file_name\n",
    "\n",
    "def submit(forecast: pd.DataFrame, file_name: str = None) -> None:\n",
    "    sample_submission = pd.read_csv(AIS_SAMPLE_SUBMISSION)\n",
    "    file_name = file_name if file_name else make_file_name()\n",
    "\n",
    "    repertory = SUBMISSION_FODLER.joinpath(file_name)\n",
    "    sample_submission = sample_submission[['ID']].merge(forecast[[\"ID\",\"longitude_predicted\",\"latitude_predicted\"]], on='ID', how='left')\n",
    "    try:\n",
    "        sample_submission.to_csv(repertory, index=False)\n",
    "    except:\n",
    "        print(\"Error register file\")\n",
    "        submit(forecast)\n",
    "\n",
    "submit(res)"
   ]
  },
  {
   "cell_type": "code",
   "execution_count": null,
   "metadata": {},
   "outputs": [],
   "source": [
    "res[\"longitude_predicted\"].plot()"
   ]
  },
  {
   "cell_type": "code",
   "execution_count": null,
   "metadata": {},
   "outputs": [],
   "source": [
    "y_test[\"longitude\"].plot()"
   ]
  },
  {
   "cell_type": "code",
   "execution_count": null,
   "metadata": {},
   "outputs": [],
   "source": []
  }
 ],
 "metadata": {
  "kernelspec": {
   "display_name": "aitask3",
   "language": "python",
   "name": "python3"
  },
  "language_info": {
   "codemirror_mode": {
    "name": "ipython",
    "version": 3
   },
   "file_extension": ".py",
   "mimetype": "text/x-python",
   "name": "python",
   "nbconvert_exporter": "python",
   "pygments_lexer": "ipython3",
   "version": "3.10.11"
  }
 },
 "nbformat": 4,
 "nbformat_minor": 2
}
